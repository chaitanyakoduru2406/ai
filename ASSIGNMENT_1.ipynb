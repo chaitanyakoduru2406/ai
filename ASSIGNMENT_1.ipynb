{
  "nbformat": 4,
  "nbformat_minor": 0,
  "metadata": {
    "colab": {
      "provenance": []
    },
    "kernelspec": {
      "name": "python3",
      "display_name": "Python 3"
    },
    "language_info": {
      "name": "python"
    }
  },
  "cells": [
    {
      "cell_type": "code",
      "execution_count": null,
      "metadata": {
        "colab": {
          "base_uri": "https://localhost:8080/"
        },
        "id": "Ba80AXn9MZLX",
        "outputId": "1224aece-8631-44ad-a9a8-b7984bc65176"
      },
      "outputs": [
        {
          "output_type": "execute_result",
          "data": {
            "text/plain": [
              "[31, 13, 23, 25, 1, 2, 3]"
            ]
          },
          "metadata": {},
          "execution_count": 1
        }
      ],
      "source": [
        "#Task 1--\n",
        "a=[31,13,23,25]\n",
        "b=[1,2,3]\n",
        "a+b"
      ]
    },
    {
      "cell_type": "code",
      "source": [
        "#task2--\n",
        "num = int(input(\"Enter a number: \"))\n",
        "if (num % 2) == 0:\n",
        "   print(\"{0} is Even\".format(num))\n",
        "else:\n",
        "   print(\"{0} is Odd\".format(num))"
      ],
      "metadata": {
        "colab": {
          "base_uri": "https://localhost:8080/"
        },
        "id": "fWb2W_jeN7B6",
        "outputId": "8b9ad078-4428-4270-e88a-f72c7f6eb1d2"
      },
      "execution_count": null,
      "outputs": [
        {
          "output_type": "stream",
          "name": "stdout",
          "text": [
            "Enter a number: 22\n",
            "22 is Even\n"
          ]
        }
      ]
    },
    {
      "cell_type": "code",
      "source": [
        "#task 3--\n",
        "d1={'s.no':[1,2,3],'name':['chaitu','ram','balaji'],'rollno':[31,13,23]}\n",
        "d1"
      ],
      "metadata": {
        "colab": {
          "base_uri": "https://localhost:8080/"
        },
        "id": "UW5eJgdzOXmT",
        "outputId": "55adbbf4-8fdb-447f-eea0-279f3c0b9ec4"
      },
      "execution_count": null,
      "outputs": [
        {
          "output_type": "execute_result",
          "data": {
            "text/plain": [
              "{'s.no': [1, 2, 3],\n",
              " 'name': ['chaitu', 'ram', 'balaji'],\n",
              " 'rollno': [31, 13, 23]}"
            ]
          },
          "metadata": {},
          "execution_count": 6
        }
      ]
    },
    {
      "cell_type": "code",
      "source": [
        "#task 4--\n",
        "def find_odd_numbers(start, end):\n",
        "    for num in range(start, end + 1):\n",
        "        if num % 2 != 0:\n",
        "            print(num)\n",
        "\n",
        "find_odd_numbers(1, 50)"
      ],
      "metadata": {
        "colab": {
          "base_uri": "https://localhost:8080/"
        },
        "id": "9kbUXaeFOrtX",
        "outputId": "0b470ce2-0033-416c-c06b-b4e4c2986e3c"
      },
      "execution_count": null,
      "outputs": [
        {
          "output_type": "stream",
          "name": "stdout",
          "text": [
            "1\n",
            "3\n",
            "5\n",
            "7\n",
            "9\n",
            "11\n",
            "13\n",
            "15\n",
            "17\n",
            "19\n",
            "21\n",
            "23\n",
            "25\n",
            "27\n",
            "29\n",
            "31\n",
            "33\n",
            "35\n",
            "37\n",
            "39\n",
            "41\n",
            "43\n",
            "45\n",
            "47\n",
            "49\n"
          ]
        }
      ]
    },
    {
      "cell_type": "code",
      "source": [
        "#task 5--\n",
        "my_list = [1, 2, 3, 4, 5]\n",
        "\n",
        "sum = 0\n",
        "for item in my_list:\n",
        "    sum += item\n",
        "\n",
        "print(\"The sum of all items in the list is:\", sum)"
      ],
      "metadata": {
        "colab": {
          "base_uri": "https://localhost:8080/"
        },
        "id": "JWk6KZiBO7-n",
        "outputId": "da1cf330-210c-4c95-f4f1-06505b10d09a"
      },
      "execution_count": null,
      "outputs": [
        {
          "output_type": "stream",
          "name": "stdout",
          "text": [
            "The sum of all items in the list is: 15\n"
          ]
        }
      ]
    }
  ]
}